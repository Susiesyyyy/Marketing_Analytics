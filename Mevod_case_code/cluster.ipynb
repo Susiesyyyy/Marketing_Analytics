{
 "cells": [
  {
   "cell_type": "code",
   "execution_count": 1,
   "id": "4dfef125",
   "metadata": {},
   "outputs": [],
   "source": [
    "import pandas as pd\n",
    "import numpy as np\n",
    "import seaborn as sns\n",
    "import matplotlib.pyplot as plt"
   ]
  },
  {
   "cell_type": "code",
   "execution_count": 2,
   "id": "9ca099dd",
   "metadata": {},
   "outputs": [],
   "source": [
    "cluster1 = pd.read_csv('cluster1.csv')\n",
    "cluster2 = pd.read_csv('cluster2.csv')\n",
    "cluster3 = pd.read_csv('cluster3.csv')"
   ]
  },
  {
   "cell_type": "code",
   "execution_count": 7,
   "id": "aa1ca06d",
   "metadata": {},
   "outputs": [
    {
     "data": {
      "text/plain": [
       "Index(['Unnamed: 0', 'subid', 'weekly_consumption_hour', 'package_type_base',\n",
       "       'package_type_economy', 'package_type_enhanced',\n",
       "       'preferred_genre_comedy', 'preferred_genre_drama',\n",
       "       'preferred_genre_international', 'preferred_genre_other',\n",
       "       'preferred_genre_regional', 'male_TF_False', 'male_TF_True',\n",
       "       'app_opens', 'cust_service_mssgs', 'num_videos_completed',\n",
       "       'num_videos_more_than_30_seconds', 'num_videos_rated',\n",
       "       'num_series_started', 'payment_period', 'label', 'train/test'],\n",
       "      dtype='object')"
      ]
     },
     "execution_count": 7,
     "metadata": {},
     "output_type": "execute_result"
    }
   ],
   "source": [
    "cluster1.columns"
   ]
  },
  {
   "cell_type": "code",
   "execution_count": 4,
   "id": "1269ba0b",
   "metadata": {},
   "outputs": [
    {
     "data": {
      "text/html": [
       "<div>\n",
       "<style scoped>\n",
       "    .dataframe tbody tr th:only-of-type {\n",
       "        vertical-align: middle;\n",
       "    }\n",
       "\n",
       "    .dataframe tbody tr th {\n",
       "        vertical-align: top;\n",
       "    }\n",
       "\n",
       "    .dataframe thead th {\n",
       "        text-align: right;\n",
       "    }\n",
       "</style>\n",
       "<table border=\"1\" class=\"dataframe\">\n",
       "  <thead>\n",
       "    <tr style=\"text-align: right;\">\n",
       "      <th></th>\n",
       "      <th>Unnamed: 0</th>\n",
       "      <th>subid</th>\n",
       "      <th>weekly_consumption_hour</th>\n",
       "      <th>package_type_base</th>\n",
       "      <th>package_type_economy</th>\n",
       "      <th>package_type_enhanced</th>\n",
       "      <th>preferred_genre_comedy</th>\n",
       "      <th>preferred_genre_drama</th>\n",
       "      <th>preferred_genre_international</th>\n",
       "      <th>preferred_genre_other</th>\n",
       "      <th>...</th>\n",
       "      <th>male_TF_False</th>\n",
       "      <th>male_TF_True</th>\n",
       "      <th>app_opens</th>\n",
       "      <th>cust_service_mssgs</th>\n",
       "      <th>num_videos_completed</th>\n",
       "      <th>num_videos_more_than_30_seconds</th>\n",
       "      <th>num_videos_rated</th>\n",
       "      <th>num_series_started</th>\n",
       "      <th>payment_period</th>\n",
       "      <th>label</th>\n",
       "    </tr>\n",
       "  </thead>\n",
       "  <tbody>\n",
       "    <tr>\n",
       "      <th>count</th>\n",
       "      <td>36150.000000</td>\n",
       "      <td>3.615000e+04</td>\n",
       "      <td>36150.000000</td>\n",
       "      <td>36150.000000</td>\n",
       "      <td>36150.000000</td>\n",
       "      <td>36150.000000</td>\n",
       "      <td>36150.000000</td>\n",
       "      <td>36150.000000</td>\n",
       "      <td>36150.000000</td>\n",
       "      <td>36150.000000</td>\n",
       "      <td>...</td>\n",
       "      <td>36150.000000</td>\n",
       "      <td>36150.000000</td>\n",
       "      <td>36150.000000</td>\n",
       "      <td>36150.000000</td>\n",
       "      <td>36150.000000</td>\n",
       "      <td>36150.000000</td>\n",
       "      <td>36150.000000</td>\n",
       "      <td>36150.000000</td>\n",
       "      <td>36150.000000</td>\n",
       "      <td>36150.0</td>\n",
       "    </tr>\n",
       "    <tr>\n",
       "      <th>mean</th>\n",
       "      <td>42983.434385</td>\n",
       "      <td>2.500854e+07</td>\n",
       "      <td>23.706231</td>\n",
       "      <td>0.567773</td>\n",
       "      <td>0.097068</td>\n",
       "      <td>0.335159</td>\n",
       "      <td>0.653444</td>\n",
       "      <td>0.240692</td>\n",
       "      <td>0.033333</td>\n",
       "      <td>0.023264</td>\n",
       "      <td>...</td>\n",
       "      <td>0.993887</td>\n",
       "      <td>0.006113</td>\n",
       "      <td>27.921964</td>\n",
       "      <td>5.848520</td>\n",
       "      <td>36.434440</td>\n",
       "      <td>58.069516</td>\n",
       "      <td>0.666030</td>\n",
       "      <td>8.337925</td>\n",
       "      <td>0.264620</td>\n",
       "      <td>0.0</td>\n",
       "    </tr>\n",
       "    <tr>\n",
       "      <th>std</th>\n",
       "      <td>24904.721814</td>\n",
       "      <td>2.884540e+06</td>\n",
       "      <td>2.260230</td>\n",
       "      <td>0.495392</td>\n",
       "      <td>0.296054</td>\n",
       "      <td>0.472053</td>\n",
       "      <td>0.475879</td>\n",
       "      <td>0.427509</td>\n",
       "      <td>0.179508</td>\n",
       "      <td>0.150743</td>\n",
       "      <td>...</td>\n",
       "      <td>0.077950</td>\n",
       "      <td>0.077950</td>\n",
       "      <td>57.461304</td>\n",
       "      <td>7.107048</td>\n",
       "      <td>57.950155</td>\n",
       "      <td>70.933874</td>\n",
       "      <td>3.395321</td>\n",
       "      <td>14.422161</td>\n",
       "      <td>0.526502</td>\n",
       "      <td>0.0</td>\n",
       "    </tr>\n",
       "    <tr>\n",
       "      <th>min</th>\n",
       "      <td>1.000000</td>\n",
       "      <td>2.000068e+07</td>\n",
       "      <td>-32.146760</td>\n",
       "      <td>0.000000</td>\n",
       "      <td>0.000000</td>\n",
       "      <td>0.000000</td>\n",
       "      <td>0.000000</td>\n",
       "      <td>0.000000</td>\n",
       "      <td>0.000000</td>\n",
       "      <td>0.000000</td>\n",
       "      <td>...</td>\n",
       "      <td>0.000000</td>\n",
       "      <td>0.000000</td>\n",
       "      <td>0.000000</td>\n",
       "      <td>0.000000</td>\n",
       "      <td>0.000000</td>\n",
       "      <td>0.000000</td>\n",
       "      <td>0.000000</td>\n",
       "      <td>0.000000</td>\n",
       "      <td>0.000000</td>\n",
       "      <td>0.0</td>\n",
       "    </tr>\n",
       "    <tr>\n",
       "      <th>25%</th>\n",
       "      <td>21377.250000</td>\n",
       "      <td>2.251933e+07</td>\n",
       "      <td>22.951579</td>\n",
       "      <td>0.000000</td>\n",
       "      <td>0.000000</td>\n",
       "      <td>0.000000</td>\n",
       "      <td>0.000000</td>\n",
       "      <td>0.000000</td>\n",
       "      <td>0.000000</td>\n",
       "      <td>0.000000</td>\n",
       "      <td>...</td>\n",
       "      <td>1.000000</td>\n",
       "      <td>0.000000</td>\n",
       "      <td>4.000000</td>\n",
       "      <td>2.000000</td>\n",
       "      <td>5.000000</td>\n",
       "      <td>16.000000</td>\n",
       "      <td>0.000000</td>\n",
       "      <td>0.000000</td>\n",
       "      <td>0.000000</td>\n",
       "      <td>0.0</td>\n",
       "    </tr>\n",
       "    <tr>\n",
       "      <th>50%</th>\n",
       "      <td>42846.000000</td>\n",
       "      <td>2.499485e+07</td>\n",
       "      <td>24.401536</td>\n",
       "      <td>1.000000</td>\n",
       "      <td>0.000000</td>\n",
       "      <td>0.000000</td>\n",
       "      <td>1.000000</td>\n",
       "      <td>0.000000</td>\n",
       "      <td>0.000000</td>\n",
       "      <td>0.000000</td>\n",
       "      <td>...</td>\n",
       "      <td>1.000000</td>\n",
       "      <td>0.000000</td>\n",
       "      <td>9.000000</td>\n",
       "      <td>3.000000</td>\n",
       "      <td>13.000000</td>\n",
       "      <td>32.000000</td>\n",
       "      <td>0.000000</td>\n",
       "      <td>2.000000</td>\n",
       "      <td>0.000000</td>\n",
       "      <td>0.0</td>\n",
       "    </tr>\n",
       "    <tr>\n",
       "      <th>75%</th>\n",
       "      <td>64753.250000</td>\n",
       "      <td>2.751795e+07</td>\n",
       "      <td>25.851492</td>\n",
       "      <td>1.000000</td>\n",
       "      <td>0.000000</td>\n",
       "      <td>1.000000</td>\n",
       "      <td>1.000000</td>\n",
       "      <td>0.000000</td>\n",
       "      <td>0.000000</td>\n",
       "      <td>0.000000</td>\n",
       "      <td>...</td>\n",
       "      <td>1.000000</td>\n",
       "      <td>0.000000</td>\n",
       "      <td>26.000000</td>\n",
       "      <td>6.000000</td>\n",
       "      <td>39.000000</td>\n",
       "      <td>60.000000</td>\n",
       "      <td>0.000000</td>\n",
       "      <td>9.000000</td>\n",
       "      <td>0.000000</td>\n",
       "      <td>0.0</td>\n",
       "    </tr>\n",
       "    <tr>\n",
       "      <th>max</th>\n",
       "      <td>86114.000000</td>\n",
       "      <td>2.999982e+07</td>\n",
       "      <td>25.851492</td>\n",
       "      <td>1.000000</td>\n",
       "      <td>1.000000</td>\n",
       "      <td>1.000000</td>\n",
       "      <td>1.000000</td>\n",
       "      <td>1.000000</td>\n",
       "      <td>1.000000</td>\n",
       "      <td>1.000000</td>\n",
       "      <td>...</td>\n",
       "      <td>1.000000</td>\n",
       "      <td>1.000000</td>\n",
       "      <td>1260.000000</td>\n",
       "      <td>109.000000</td>\n",
       "      <td>355.000000</td>\n",
       "      <td>542.000000</td>\n",
       "      <td>128.000000</td>\n",
       "      <td>76.000000</td>\n",
       "      <td>3.000000</td>\n",
       "      <td>0.0</td>\n",
       "    </tr>\n",
       "  </tbody>\n",
       "</table>\n",
       "<p>8 rows × 21 columns</p>\n",
       "</div>"
      ],
      "text/plain": [
       "         Unnamed: 0         subid  weekly_consumption_hour  package_type_base  \\\n",
       "count  36150.000000  3.615000e+04             36150.000000       36150.000000   \n",
       "mean   42983.434385  2.500854e+07                23.706231           0.567773   \n",
       "std    24904.721814  2.884540e+06                 2.260230           0.495392   \n",
       "min        1.000000  2.000068e+07               -32.146760           0.000000   \n",
       "25%    21377.250000  2.251933e+07                22.951579           0.000000   \n",
       "50%    42846.000000  2.499485e+07                24.401536           1.000000   \n",
       "75%    64753.250000  2.751795e+07                25.851492           1.000000   \n",
       "max    86114.000000  2.999982e+07                25.851492           1.000000   \n",
       "\n",
       "       package_type_economy  package_type_enhanced  preferred_genre_comedy  \\\n",
       "count          36150.000000           36150.000000            36150.000000   \n",
       "mean               0.097068               0.335159                0.653444   \n",
       "std                0.296054               0.472053                0.475879   \n",
       "min                0.000000               0.000000                0.000000   \n",
       "25%                0.000000               0.000000                0.000000   \n",
       "50%                0.000000               0.000000                1.000000   \n",
       "75%                0.000000               1.000000                1.000000   \n",
       "max                1.000000               1.000000                1.000000   \n",
       "\n",
       "       preferred_genre_drama  preferred_genre_international  \\\n",
       "count           36150.000000                   36150.000000   \n",
       "mean                0.240692                       0.033333   \n",
       "std                 0.427509                       0.179508   \n",
       "min                 0.000000                       0.000000   \n",
       "25%                 0.000000                       0.000000   \n",
       "50%                 0.000000                       0.000000   \n",
       "75%                 0.000000                       0.000000   \n",
       "max                 1.000000                       1.000000   \n",
       "\n",
       "       preferred_genre_other  ...  male_TF_False  male_TF_True     app_opens  \\\n",
       "count           36150.000000  ...   36150.000000  36150.000000  36150.000000   \n",
       "mean                0.023264  ...       0.993887      0.006113     27.921964   \n",
       "std                 0.150743  ...       0.077950      0.077950     57.461304   \n",
       "min                 0.000000  ...       0.000000      0.000000      0.000000   \n",
       "25%                 0.000000  ...       1.000000      0.000000      4.000000   \n",
       "50%                 0.000000  ...       1.000000      0.000000      9.000000   \n",
       "75%                 0.000000  ...       1.000000      0.000000     26.000000   \n",
       "max                 1.000000  ...       1.000000      1.000000   1260.000000   \n",
       "\n",
       "       cust_service_mssgs  num_videos_completed  \\\n",
       "count        36150.000000          36150.000000   \n",
       "mean             5.848520             36.434440   \n",
       "std              7.107048             57.950155   \n",
       "min              0.000000              0.000000   \n",
       "25%              2.000000              5.000000   \n",
       "50%              3.000000             13.000000   \n",
       "75%              6.000000             39.000000   \n",
       "max            109.000000            355.000000   \n",
       "\n",
       "       num_videos_more_than_30_seconds  num_videos_rated  num_series_started  \\\n",
       "count                     36150.000000      36150.000000        36150.000000   \n",
       "mean                         58.069516          0.666030            8.337925   \n",
       "std                          70.933874          3.395321           14.422161   \n",
       "min                           0.000000          0.000000            0.000000   \n",
       "25%                          16.000000          0.000000            0.000000   \n",
       "50%                          32.000000          0.000000            2.000000   \n",
       "75%                          60.000000          0.000000            9.000000   \n",
       "max                         542.000000        128.000000           76.000000   \n",
       "\n",
       "       payment_period    label  \n",
       "count    36150.000000  36150.0  \n",
       "mean         0.264620      0.0  \n",
       "std          0.526502      0.0  \n",
       "min          0.000000      0.0  \n",
       "25%          0.000000      0.0  \n",
       "50%          0.000000      0.0  \n",
       "75%          0.000000      0.0  \n",
       "max          3.000000      0.0  \n",
       "\n",
       "[8 rows x 21 columns]"
      ]
     },
     "execution_count": 4,
     "metadata": {},
     "output_type": "execute_result"
    }
   ],
   "source": [
    "cluster1.describe()"
   ]
  },
  {
   "cell_type": "code",
   "execution_count": 33,
   "id": "1debaaaf",
   "metadata": {},
   "outputs": [],
   "source": [
    "cluster1_genre = cluster1[['preferred_genre_comedy','preferred_genre_drama','preferred_genre_international','preferred_genre_other','preferred_genre_regional']]\n",
    "cluster1_genre = cluster1_genre.apply(pd.value_counts)\n",
    "cluster1_genre = (cluster1_genre/36150).round(2)"
   ]
  },
  {
   "cell_type": "code",
   "execution_count": 34,
   "id": "a7dddd9d",
   "metadata": {},
   "outputs": [
    {
     "data": {
      "text/html": [
       "<div>\n",
       "<style scoped>\n",
       "    .dataframe tbody tr th:only-of-type {\n",
       "        vertical-align: middle;\n",
       "    }\n",
       "\n",
       "    .dataframe tbody tr th {\n",
       "        vertical-align: top;\n",
       "    }\n",
       "\n",
       "    .dataframe thead th {\n",
       "        text-align: right;\n",
       "    }\n",
       "</style>\n",
       "<table border=\"1\" class=\"dataframe\">\n",
       "  <thead>\n",
       "    <tr style=\"text-align: right;\">\n",
       "      <th></th>\n",
       "      <th>preferred_genre_comedy</th>\n",
       "      <th>preferred_genre_drama</th>\n",
       "      <th>preferred_genre_international</th>\n",
       "      <th>preferred_genre_other</th>\n",
       "      <th>preferred_genre_regional</th>\n",
       "    </tr>\n",
       "  </thead>\n",
       "  <tbody>\n",
       "    <tr>\n",
       "      <th>0</th>\n",
       "      <td>0.35</td>\n",
       "      <td>0.76</td>\n",
       "      <td>0.97</td>\n",
       "      <td>0.98</td>\n",
       "      <td>0.95</td>\n",
       "    </tr>\n",
       "    <tr>\n",
       "      <th>1</th>\n",
       "      <td>0.65</td>\n",
       "      <td>0.24</td>\n",
       "      <td>0.03</td>\n",
       "      <td>0.02</td>\n",
       "      <td>0.05</td>\n",
       "    </tr>\n",
       "  </tbody>\n",
       "</table>\n",
       "</div>"
      ],
      "text/plain": [
       "   preferred_genre_comedy  preferred_genre_drama  \\\n",
       "0                    0.35                   0.76   \n",
       "1                    0.65                   0.24   \n",
       "\n",
       "   preferred_genre_international  preferred_genre_other  \\\n",
       "0                           0.97                   0.98   \n",
       "1                           0.03                   0.02   \n",
       "\n",
       "   preferred_genre_regional  \n",
       "0                      0.95  \n",
       "1                      0.05  "
      ]
     },
     "execution_count": 34,
     "metadata": {},
     "output_type": "execute_result"
    }
   ],
   "source": [
    "cluster1_genre"
   ]
  },
  {
   "cell_type": "code",
   "execution_count": 36,
   "id": "96c2094a",
   "metadata": {},
   "outputs": [],
   "source": [
    "cluster1_genre_t = cluster1_genre.transpose()"
   ]
  },
  {
   "cell_type": "code",
   "execution_count": 40,
   "id": "2423eee5",
   "metadata": {},
   "outputs": [
    {
     "data": {
      "text/plain": [
       "<matplotlib.legend.Legend at 0x20f87b954f0>"
      ]
     },
     "execution_count": 40,
     "metadata": {},
     "output_type": "execute_result"
    },
    {
     "data": {
      "image/png": "[encoded data removed]",
      "text/plain": [
       "<Figure size 432x288 with 1 Axes>"
      ]
     },
     "metadata": {
      "needs_background": "light"
     },
     "output_type": "display_data"
    }
   ],
   "source": [
    "ax = cluster1_genre_t.plot.barh(stacked=True,color={0: \"#c51b8a\", 1: \"#fde0dd\"})\n",
    "ax.set_title('Preferred Genre for cluster 1')\n",
    "ax.legend(loc='center left', bbox_to_anchor=(1, 0.5))"
   ]
  },
  {
   "cell_type": "code",
   "execution_count": null,
   "id": "4ca499f0",
   "metadata": {},
   "outputs": [],
   "source": []
  },
  {
   "cell_type": "code",
   "execution_count": 52,
   "id": "648a7e9d",
   "metadata": {},
   "outputs": [
    {
     "name": "stderr",
     "output_type": "stream",
     "text": [
      "<ipython-input-52-1b9e3818355a>:3: SettingWithCopyWarning: \n",
      "A value is trying to be set on a copy of a slice from a DataFrame.\n",
      "Try using .loc[row_indexer,col_indexer] = value instead\n",
      "\n",
      "See the caveats in the documentation: https://pandas.pydata.org/pandas-docs/stable/user_guide/indexing.html#returning-a-view-versus-a-copy\n",
      "  con_hour['cluster2'] = cluster2[['weekly_consumption_hour']]\n",
      "<ipython-input-52-1b9e3818355a>:4: SettingWithCopyWarning: \n",
      "A value is trying to be set on a copy of a slice from a DataFrame.\n",
      "Try using .loc[row_indexer,col_indexer] = value instead\n",
      "\n",
      "See the caveats in the documentation: https://pandas.pydata.org/pandas-docs/stable/user_guide/indexing.html#returning-a-view-versus-a-copy\n",
      "  con_hour['cluster3'] = cluster3[['weekly_consumption_hour']]\n"
     ]
    }
   ],
   "source": [
    "con_hour = pd.DataFrame()\n",
    "con_hour = cluster1[['weekly_consumption_hour']]\n",
    "con_hour['cluster2'] = cluster2[['weekly_consumption_hour']]\n",
    "con_hour['cluster3'] = cluster3[['weekly_consumption_hour']]\n",
    "con_hour.columns = ['cluster1','cluster2','cluster3']\n",
    "con_hour = con_hour.mean().to_frame()"
   ]
  },
  {
   "cell_type": "code",
   "execution_count": 54,
   "id": "c9826401",
   "metadata": {},
   "outputs": [],
   "source": [
    "con_hour.columns=['weekly_consumption_hour']"
   ]
  },
  {
   "cell_type": "code",
   "execution_count": 55,
   "id": "8baa0945",
   "metadata": {},
   "outputs": [
    {
     "data": {
      "text/html": [
       "<div>\n",
       "<style scoped>\n",
       "    .dataframe tbody tr th:only-of-type {\n",
       "        vertical-align: middle;\n",
       "    }\n",
       "\n",
       "    .dataframe tbody tr th {\n",
       "        vertical-align: top;\n",
       "    }\n",
       "\n",
       "    .dataframe thead th {\n",
       "        text-align: right;\n",
       "    }\n",
       "</style>\n",
       "<table border=\"1\" class=\"dataframe\">\n",
       "  <thead>\n",
       "    <tr style=\"text-align: right;\">\n",
       "      <th></th>\n",
       "      <th>weekly_consumption_hour</th>\n",
       "    </tr>\n",
       "  </thead>\n",
       "  <tbody>\n",
       "    <tr>\n",
       "      <th>cluster1</th>\n",
       "      <td>23.706231</td>\n",
       "    </tr>\n",
       "    <tr>\n",
       "      <th>cluster2</th>\n",
       "      <td>37.170994</td>\n",
       "    </tr>\n",
       "    <tr>\n",
       "      <th>cluster3</th>\n",
       "      <td>29.610105</td>\n",
       "    </tr>\n",
       "  </tbody>\n",
       "</table>\n",
       "</div>"
      ],
      "text/plain": [
       "          weekly_consumption_hour\n",
       "cluster1                23.706231\n",
       "cluster2                37.170994\n",
       "cluster3                29.610105"
      ]
     },
     "execution_count": 55,
     "metadata": {},
     "output_type": "execute_result"
    }
   ],
   "source": [
    "con_hour"
   ]
  },
  {
   "cell_type": "code",
   "execution_count": 57,
   "id": "93ee921e",
   "metadata": {},
   "outputs": [
    {
     "name": "stderr",
     "output_type": "stream",
     "text": [
      "C:\\Users\\Susie\\anaconda3-3\\lib\\site-packages\\seaborn\\_decorators.py:36: FutureWarning: Pass the following variable as a keyword arg: x. From version 0.12, the only valid positional argument will be `data`, and passing other arguments without an explicit keyword will result in an error or misinterpretation.\n",
      "  warnings.warn(\n"
     ]
    },
    {
     "data": {
      "text/plain": [
       "<AxesSubplot:title={'center':'Average Weekly Consumption Hour'}, ylabel='weekly_consumption_hour'>"
      ]
     },
     "execution_count": 57,
     "metadata": {},
     "output_type": "execute_result"
    },
    {
     "data": {
      "image/png": "[encoded data removed]",
      "text/plain": [
       "<Figure size 432x288 with 1 Axes>"
      ]
     },
     "metadata": {
      "needs_background": "light"
     },
     "output_type": "display_data"
    }
   ],
   "source": [
    "ax = sns.barplot(con_hour.index, y=con_hour['weekly_consumption_hour'], palette=\"RdPu\")\n",
    "ax.set_title('Average Weekly Consumption Hour')\n",
    "ax"
   ]
  },
  {
   "cell_type": "code",
   "execution_count": null,
   "id": "c3843772",
   "metadata": {},
   "outputs": [],
   "source": []
  },
  {
   "cell_type": "code",
   "execution_count": null,
   "id": "2d771d82",
   "metadata": {},
   "outputs": [],
   "source": []
  },
  {
   "cell_type": "code",
   "execution_count": 5,
   "id": "3dbd3844",
   "metadata": {},
   "outputs": [
    {
     "data": {
      "text/html": [
       "<div>\n",
       "<style scoped>\n",
       "    .dataframe tbody tr th:only-of-type {\n",
       "        vertical-align: middle;\n",
       "    }\n",
       "\n",
       "    .dataframe tbody tr th {\n",
       "        vertical-align: top;\n",
       "    }\n",
       "\n",
       "    .dataframe thead th {\n",
       "        text-align: right;\n",
       "    }\n",
       "</style>\n",
       "<table border=\"1\" class=\"dataframe\">\n",
       "  <thead>\n",
       "    <tr style=\"text-align: right;\">\n",
       "      <th></th>\n",
       "      <th>Unnamed: 0</th>\n",
       "      <th>subid</th>\n",
       "      <th>weekly_consumption_hour</th>\n",
       "      <th>package_type_base</th>\n",
       "      <th>package_type_economy</th>\n",
       "      <th>package_type_enhanced</th>\n",
       "      <th>preferred_genre_comedy</th>\n",
       "      <th>preferred_genre_drama</th>\n",
       "      <th>preferred_genre_international</th>\n",
       "      <th>preferred_genre_other</th>\n",
       "      <th>...</th>\n",
       "      <th>male_TF_False</th>\n",
       "      <th>male_TF_True</th>\n",
       "      <th>app_opens</th>\n",
       "      <th>cust_service_mssgs</th>\n",
       "      <th>num_videos_completed</th>\n",
       "      <th>num_videos_more_than_30_seconds</th>\n",
       "      <th>num_videos_rated</th>\n",
       "      <th>num_series_started</th>\n",
       "      <th>payment_period</th>\n",
       "      <th>label</th>\n",
       "    </tr>\n",
       "  </thead>\n",
       "  <tbody>\n",
       "    <tr>\n",
       "      <th>count</th>\n",
       "      <td>10341.000000</td>\n",
       "      <td>1.034100e+04</td>\n",
       "      <td>10341.000000</td>\n",
       "      <td>10341.000000</td>\n",
       "      <td>10341.000000</td>\n",
       "      <td>10341.000000</td>\n",
       "      <td>10341.000000</td>\n",
       "      <td>10341.000000</td>\n",
       "      <td>10341.000000</td>\n",
       "      <td>10341.000000</td>\n",
       "      <td>...</td>\n",
       "      <td>10341.00000</td>\n",
       "      <td>10341.00000</td>\n",
       "      <td>10341.000000</td>\n",
       "      <td>10341.000000</td>\n",
       "      <td>10341.000000</td>\n",
       "      <td>10341.000000</td>\n",
       "      <td>10341.000000</td>\n",
       "      <td>10341.000000</td>\n",
       "      <td>10341.000000</td>\n",
       "      <td>10341.0</td>\n",
       "    </tr>\n",
       "    <tr>\n",
       "      <th>mean</th>\n",
       "      <td>43437.812010</td>\n",
       "      <td>2.497328e+07</td>\n",
       "      <td>37.170994</td>\n",
       "      <td>0.513393</td>\n",
       "      <td>0.105986</td>\n",
       "      <td>0.380621</td>\n",
       "      <td>0.546562</td>\n",
       "      <td>0.307224</td>\n",
       "      <td>0.044580</td>\n",
       "      <td>0.026593</td>\n",
       "      <td>...</td>\n",
       "      <td>0.29707</td>\n",
       "      <td>0.70293</td>\n",
       "      <td>35.866454</td>\n",
       "      <td>6.059956</td>\n",
       "      <td>41.681849</td>\n",
       "      <td>71.685040</td>\n",
       "      <td>0.705541</td>\n",
       "      <td>10.914708</td>\n",
       "      <td>0.418431</td>\n",
       "      <td>1.0</td>\n",
       "    </tr>\n",
       "    <tr>\n",
       "      <th>std</th>\n",
       "      <td>24798.548508</td>\n",
       "      <td>2.880075e+06</td>\n",
       "      <td>2.992661</td>\n",
       "      <td>0.499845</td>\n",
       "      <td>0.307834</td>\n",
       "      <td>0.485563</td>\n",
       "      <td>0.497851</td>\n",
       "      <td>0.461365</td>\n",
       "      <td>0.206389</td>\n",
       "      <td>0.160899</td>\n",
       "      <td>...</td>\n",
       "      <td>0.45699</td>\n",
       "      <td>0.45699</td>\n",
       "      <td>69.114113</td>\n",
       "      <td>7.082075</td>\n",
       "      <td>61.763741</td>\n",
       "      <td>80.750039</td>\n",
       "      <td>3.247948</td>\n",
       "      <td>16.776753</td>\n",
       "      <td>0.600326</td>\n",
       "      <td>0.0</td>\n",
       "    </tr>\n",
       "    <tr>\n",
       "      <th>min</th>\n",
       "      <td>0.000000</td>\n",
       "      <td>2.000247e+07</td>\n",
       "      <td>34.551230</td>\n",
       "      <td>0.000000</td>\n",
       "      <td>0.000000</td>\n",
       "      <td>0.000000</td>\n",
       "      <td>0.000000</td>\n",
       "      <td>0.000000</td>\n",
       "      <td>0.000000</td>\n",
       "      <td>0.000000</td>\n",
       "      <td>...</td>\n",
       "      <td>0.00000</td>\n",
       "      <td>0.00000</td>\n",
       "      <td>0.000000</td>\n",
       "      <td>0.000000</td>\n",
       "      <td>0.000000</td>\n",
       "      <td>0.000000</td>\n",
       "      <td>0.000000</td>\n",
       "      <td>0.000000</td>\n",
       "      <td>0.000000</td>\n",
       "      <td>1.0</td>\n",
       "    </tr>\n",
       "    <tr>\n",
       "      <th>25%</th>\n",
       "      <td>22122.000000</td>\n",
       "      <td>2.242438e+07</td>\n",
       "      <td>34.551230</td>\n",
       "      <td>0.000000</td>\n",
       "      <td>0.000000</td>\n",
       "      <td>0.000000</td>\n",
       "      <td>0.000000</td>\n",
       "      <td>0.000000</td>\n",
       "      <td>0.000000</td>\n",
       "      <td>0.000000</td>\n",
       "      <td>...</td>\n",
       "      <td>0.00000</td>\n",
       "      <td>0.00000</td>\n",
       "      <td>4.000000</td>\n",
       "      <td>2.000000</td>\n",
       "      <td>5.000000</td>\n",
       "      <td>17.000000</td>\n",
       "      <td>0.000000</td>\n",
       "      <td>0.000000</td>\n",
       "      <td>0.000000</td>\n",
       "      <td>1.0</td>\n",
       "    </tr>\n",
       "    <tr>\n",
       "      <th>50%</th>\n",
       "      <td>43225.000000</td>\n",
       "      <td>2.498578e+07</td>\n",
       "      <td>36.001186</td>\n",
       "      <td>1.000000</td>\n",
       "      <td>0.000000</td>\n",
       "      <td>0.000000</td>\n",
       "      <td>1.000000</td>\n",
       "      <td>0.000000</td>\n",
       "      <td>0.000000</td>\n",
       "      <td>0.000000</td>\n",
       "      <td>...</td>\n",
       "      <td>0.00000</td>\n",
       "      <td>1.00000</td>\n",
       "      <td>10.000000</td>\n",
       "      <td>3.000000</td>\n",
       "      <td>14.000000</td>\n",
       "      <td>36.000000</td>\n",
       "      <td>0.000000</td>\n",
       "      <td>3.000000</td>\n",
       "      <td>0.000000</td>\n",
       "      <td>1.0</td>\n",
       "    </tr>\n",
       "    <tr>\n",
       "      <th>75%</th>\n",
       "      <td>65107.000000</td>\n",
       "      <td>2.749074e+07</td>\n",
       "      <td>38.901099</td>\n",
       "      <td>1.000000</td>\n",
       "      <td>0.000000</td>\n",
       "      <td>1.000000</td>\n",
       "      <td>1.000000</td>\n",
       "      <td>1.000000</td>\n",
       "      <td>0.000000</td>\n",
       "      <td>0.000000</td>\n",
       "      <td>...</td>\n",
       "      <td>1.00000</td>\n",
       "      <td>1.00000</td>\n",
       "      <td>38.000000</td>\n",
       "      <td>7.000000</td>\n",
       "      <td>48.000000</td>\n",
       "      <td>84.000000</td>\n",
       "      <td>0.000000</td>\n",
       "      <td>12.000000</td>\n",
       "      <td>1.000000</td>\n",
       "      <td>1.0</td>\n",
       "    </tr>\n",
       "    <tr>\n",
       "      <th>max</th>\n",
       "      <td>86111.000000</td>\n",
       "      <td>2.999863e+07</td>\n",
       "      <td>75.150006</td>\n",
       "      <td>1.000000</td>\n",
       "      <td>1.000000</td>\n",
       "      <td>1.000000</td>\n",
       "      <td>1.000000</td>\n",
       "      <td>1.000000</td>\n",
       "      <td>1.000000</td>\n",
       "      <td>1.000000</td>\n",
       "      <td>...</td>\n",
       "      <td>1.00000</td>\n",
       "      <td>1.00000</td>\n",
       "      <td>1081.000000</td>\n",
       "      <td>109.000000</td>\n",
       "      <td>331.000000</td>\n",
       "      <td>517.000000</td>\n",
       "      <td>87.000000</td>\n",
       "      <td>76.000000</td>\n",
       "      <td>3.000000</td>\n",
       "      <td>1.0</td>\n",
       "    </tr>\n",
       "  </tbody>\n",
       "</table>\n",
       "<p>8 rows × 21 columns</p>\n",
       "</div>"
      ],
      "text/plain": [
       "         Unnamed: 0         subid  weekly_consumption_hour  package_type_base  \\\n",
       "count  10341.000000  1.034100e+04             10341.000000       10341.000000   \n",
       "mean   43437.812010  2.497328e+07                37.170994           0.513393   \n",
       "std    24798.548508  2.880075e+06                 2.992661           0.499845   \n",
       "min        0.000000  2.000247e+07                34.551230           0.000000   \n",
       "25%    22122.000000  2.242438e+07                34.551230           0.000000   \n",
       "50%    43225.000000  2.498578e+07                36.001186           1.000000   \n",
       "75%    65107.000000  2.749074e+07                38.901099           1.000000   \n",
       "max    86111.000000  2.999863e+07                75.150006           1.000000   \n",
       "\n",
       "       package_type_economy  package_type_enhanced  preferred_genre_comedy  \\\n",
       "count          10341.000000           10341.000000            10341.000000   \n",
       "mean               0.105986               0.380621                0.546562   \n",
       "std                0.307834               0.485563                0.497851   \n",
       "min                0.000000               0.000000                0.000000   \n",
       "25%                0.000000               0.000000                0.000000   \n",
       "50%                0.000000               0.000000                1.000000   \n",
       "75%                0.000000               1.000000                1.000000   \n",
       "max                1.000000               1.000000                1.000000   \n",
       "\n",
       "       preferred_genre_drama  preferred_genre_international  \\\n",
       "count           10341.000000                   10341.000000   \n",
       "mean                0.307224                       0.044580   \n",
       "std                 0.461365                       0.206389   \n",
       "min                 0.000000                       0.000000   \n",
       "25%                 0.000000                       0.000000   \n",
       "50%                 0.000000                       0.000000   \n",
       "75%                 1.000000                       0.000000   \n",
       "max                 1.000000                       1.000000   \n",
       "\n",
       "       preferred_genre_other  ...  male_TF_False  male_TF_True     app_opens  \\\n",
       "count           10341.000000  ...    10341.00000   10341.00000  10341.000000   \n",
       "mean                0.026593  ...        0.29707       0.70293     35.866454   \n",
       "std                 0.160899  ...        0.45699       0.45699     69.114113   \n",
       "min                 0.000000  ...        0.00000       0.00000      0.000000   \n",
       "25%                 0.000000  ...        0.00000       0.00000      4.000000   \n",
       "50%                 0.000000  ...        0.00000       1.00000     10.000000   \n",
       "75%                 0.000000  ...        1.00000       1.00000     38.000000   \n",
       "max                 1.000000  ...        1.00000       1.00000   1081.000000   \n",
       "\n",
       "       cust_service_mssgs  num_videos_completed  \\\n",
       "count        10341.000000          10341.000000   \n",
       "mean             6.059956             41.681849   \n",
       "std              7.082075             61.763741   \n",
       "min              0.000000              0.000000   \n",
       "25%              2.000000              5.000000   \n",
       "50%              3.000000             14.000000   \n",
       "75%              7.000000             48.000000   \n",
       "max            109.000000            331.000000   \n",
       "\n",
       "       num_videos_more_than_30_seconds  num_videos_rated  num_series_started  \\\n",
       "count                     10341.000000      10341.000000        10341.000000   \n",
       "mean                         71.685040          0.705541           10.914708   \n",
       "std                          80.750039          3.247948           16.776753   \n",
       "min                           0.000000          0.000000            0.000000   \n",
       "25%                          17.000000          0.000000            0.000000   \n",
       "50%                          36.000000          0.000000            3.000000   \n",
       "75%                          84.000000          0.000000           12.000000   \n",
       "max                         517.000000         87.000000           76.000000   \n",
       "\n",
       "       payment_period    label  \n",
       "count    10341.000000  10341.0  \n",
       "mean         0.418431      1.0  \n",
       "std          0.600326      0.0  \n",
       "min          0.000000      1.0  \n",
       "25%          0.000000      1.0  \n",
       "50%          0.000000      1.0  \n",
       "75%          1.000000      1.0  \n",
       "max          3.000000      1.0  \n",
       "\n",
       "[8 rows x 21 columns]"
      ]
     },
     "execution_count": 5,
     "metadata": {},
     "output_type": "execute_result"
    }
   ],
   "source": [
    "cluster2.describe()"
   ]
  },
  {
   "cell_type": "code",
   "execution_count": 23,
   "id": "f7ce393c",
   "metadata": {},
   "outputs": [],
   "source": [
    "cluster2_genre = cluster2[['preferred_genre_comedy','preferred_genre_drama','preferred_genre_international','preferred_genre_other','preferred_genre_regional']]\n",
    "cluster2_genre = cluster2_genre.apply(pd.value_counts)"
   ]
  },
  {
   "cell_type": "code",
   "execution_count": 29,
   "id": "2d840c39",
   "metadata": {},
   "outputs": [],
   "source": [
    "cluster2_genre = (cluster2_genre/10341).round(2)"
   ]
  },
  {
   "cell_type": "code",
   "execution_count": 41,
   "id": "96d51acc",
   "metadata": {},
   "outputs": [],
   "source": [
    "cluster2_genre_t = cluster2_genre.transpose()"
   ]
  },
  {
   "cell_type": "code",
   "execution_count": 43,
   "id": "8fd729d0",
   "metadata": {},
   "outputs": [
    {
     "data": {
      "text/plain": [
       "<matplotlib.legend.Legend at 0x20f87c6a520>"
      ]
     },
     "execution_count": 43,
     "metadata": {},
     "output_type": "execute_result"
    },
    {
     "data": {
      "image/png": "[encoded data removed]",
      "text/plain": [
       "<Figure size 432x288 with 1 Axes>"
      ]
     },
     "metadata": {
      "needs_background": "light"
     },
     "output_type": "display_data"
    }
   ],
   "source": [
    "ax = cluster2_genre_t.plot.barh(stacked=True,color={0: \"#c51b8a\", 1: \"#fde0dd\"})\n",
    "ax.set_title('Preferred Genre for cluster 2')\n",
    "ax.legend(loc='center left', bbox_to_anchor=(1, 0.5))"
   ]
  },
  {
   "cell_type": "code",
   "execution_count": null,
   "id": "7b97d05f",
   "metadata": {},
   "outputs": [],
   "source": []
  },
  {
   "cell_type": "code",
   "execution_count": 6,
   "id": "1570fe34",
   "metadata": {},
   "outputs": [
    {
     "data": {
      "text/html": [
       "<div>\n",
       "<style scoped>\n",
       "    .dataframe tbody tr th:only-of-type {\n",
       "        vertical-align: middle;\n",
       "    }\n",
       "\n",
       "    .dataframe tbody tr th {\n",
       "        vertical-align: top;\n",
       "    }\n",
       "\n",
       "    .dataframe thead th {\n",
       "        text-align: right;\n",
       "    }\n",
       "</style>\n",
       "<table border=\"1\" class=\"dataframe\">\n",
       "  <thead>\n",
       "    <tr style=\"text-align: right;\">\n",
       "      <th></th>\n",
       "      <th>Unnamed: 0</th>\n",
       "      <th>subid</th>\n",
       "      <th>weekly_consumption_hour</th>\n",
       "      <th>package_type_base</th>\n",
       "      <th>package_type_economy</th>\n",
       "      <th>package_type_enhanced</th>\n",
       "      <th>preferred_genre_comedy</th>\n",
       "      <th>preferred_genre_drama</th>\n",
       "      <th>preferred_genre_international</th>\n",
       "      <th>preferred_genre_other</th>\n",
       "      <th>...</th>\n",
       "      <th>male_TF_False</th>\n",
       "      <th>male_TF_True</th>\n",
       "      <th>app_opens</th>\n",
       "      <th>cust_service_mssgs</th>\n",
       "      <th>num_videos_completed</th>\n",
       "      <th>num_videos_more_than_30_seconds</th>\n",
       "      <th>num_videos_rated</th>\n",
       "      <th>num_series_started</th>\n",
       "      <th>payment_period</th>\n",
       "      <th>label</th>\n",
       "    </tr>\n",
       "  </thead>\n",
       "  <tbody>\n",
       "    <tr>\n",
       "      <th>count</th>\n",
       "      <td>39626.000000</td>\n",
       "      <td>3.962600e+04</td>\n",
       "      <td>39626.000000</td>\n",
       "      <td>39626.000000</td>\n",
       "      <td>39626.000000</td>\n",
       "      <td>39626.000000</td>\n",
       "      <td>39626.000000</td>\n",
       "      <td>39626.000000</td>\n",
       "      <td>39626.000000</td>\n",
       "      <td>39626.000000</td>\n",
       "      <td>...</td>\n",
       "      <td>39626.000000</td>\n",
       "      <td>39626.000000</td>\n",
       "      <td>39626.000000</td>\n",
       "      <td>39626.000000</td>\n",
       "      <td>39626.000000</td>\n",
       "      <td>39626.000000</td>\n",
       "      <td>39626.000000</td>\n",
       "      <td>39626.000000</td>\n",
       "      <td>39626.000000</td>\n",
       "      <td>39626.0</td>\n",
       "    </tr>\n",
       "    <tr>\n",
       "      <th>mean</th>\n",
       "      <td>43026.907056</td>\n",
       "      <td>2.500054e+07</td>\n",
       "      <td>29.607070</td>\n",
       "      <td>0.559204</td>\n",
       "      <td>0.093247</td>\n",
       "      <td>0.347550</td>\n",
       "      <td>0.630369</td>\n",
       "      <td>0.243047</td>\n",
       "      <td>0.037652</td>\n",
       "      <td>0.027936</td>\n",
       "      <td>...</td>\n",
       "      <td>0.908419</td>\n",
       "      <td>0.091581</td>\n",
       "      <td>30.456645</td>\n",
       "      <td>5.952203</td>\n",
       "      <td>38.981603</td>\n",
       "      <td>61.858149</td>\n",
       "      <td>0.706657</td>\n",
       "      <td>9.073992</td>\n",
       "      <td>0.297052</td>\n",
       "      <td>2.0</td>\n",
       "    </tr>\n",
       "    <tr>\n",
       "      <th>std</th>\n",
       "      <td>24834.874855</td>\n",
       "      <td>2.888612e+06</td>\n",
       "      <td>1.906076</td>\n",
       "      <td>0.496489</td>\n",
       "      <td>0.290782</td>\n",
       "      <td>0.476198</td>\n",
       "      <td>0.482711</td>\n",
       "      <td>0.428929</td>\n",
       "      <td>0.190356</td>\n",
       "      <td>0.164792</td>\n",
       "      <td>...</td>\n",
       "      <td>0.288438</td>\n",
       "      <td>0.288438</td>\n",
       "      <td>60.148853</td>\n",
       "      <td>7.145496</td>\n",
       "      <td>60.191400</td>\n",
       "      <td>74.008219</td>\n",
       "      <td>3.616207</td>\n",
       "      <td>15.134447</td>\n",
       "      <td>0.549032</td>\n",
       "      <td>0.0</td>\n",
       "    </tr>\n",
       "    <tr>\n",
       "      <th>min</th>\n",
       "      <td>5.000000</td>\n",
       "      <td>2.000040e+07</td>\n",
       "      <td>26.771789</td>\n",
       "      <td>0.000000</td>\n",
       "      <td>0.000000</td>\n",
       "      <td>0.000000</td>\n",
       "      <td>0.000000</td>\n",
       "      <td>0.000000</td>\n",
       "      <td>0.000000</td>\n",
       "      <td>0.000000</td>\n",
       "      <td>...</td>\n",
       "      <td>0.000000</td>\n",
       "      <td>0.000000</td>\n",
       "      <td>0.000000</td>\n",
       "      <td>0.000000</td>\n",
       "      <td>0.000000</td>\n",
       "      <td>0.000000</td>\n",
       "      <td>0.000000</td>\n",
       "      <td>0.000000</td>\n",
       "      <td>0.000000</td>\n",
       "      <td>2.0</td>\n",
       "    </tr>\n",
       "    <tr>\n",
       "      <th>25%</th>\n",
       "      <td>21515.750000</td>\n",
       "      <td>2.249291e+07</td>\n",
       "      <td>27.301448</td>\n",
       "      <td>0.000000</td>\n",
       "      <td>0.000000</td>\n",
       "      <td>0.000000</td>\n",
       "      <td>0.000000</td>\n",
       "      <td>0.000000</td>\n",
       "      <td>0.000000</td>\n",
       "      <td>0.000000</td>\n",
       "      <td>...</td>\n",
       "      <td>1.000000</td>\n",
       "      <td>0.000000</td>\n",
       "      <td>4.000000</td>\n",
       "      <td>2.000000</td>\n",
       "      <td>6.000000</td>\n",
       "      <td>17.000000</td>\n",
       "      <td>0.000000</td>\n",
       "      <td>0.000000</td>\n",
       "      <td>0.000000</td>\n",
       "      <td>2.0</td>\n",
       "    </tr>\n",
       "    <tr>\n",
       "      <th>50%</th>\n",
       "      <td>43210.000000</td>\n",
       "      <td>2.500267e+07</td>\n",
       "      <td>28.751405</td>\n",
       "      <td>1.000000</td>\n",
       "      <td>0.000000</td>\n",
       "      <td>0.000000</td>\n",
       "      <td>1.000000</td>\n",
       "      <td>0.000000</td>\n",
       "      <td>0.000000</td>\n",
       "      <td>0.000000</td>\n",
       "      <td>...</td>\n",
       "      <td>1.000000</td>\n",
       "      <td>0.000000</td>\n",
       "      <td>9.000000</td>\n",
       "      <td>3.000000</td>\n",
       "      <td>14.000000</td>\n",
       "      <td>32.000000</td>\n",
       "      <td>0.000000</td>\n",
       "      <td>2.000000</td>\n",
       "      <td>0.000000</td>\n",
       "      <td>2.0</td>\n",
       "    </tr>\n",
       "    <tr>\n",
       "      <th>75%</th>\n",
       "      <td>64295.750000</td>\n",
       "      <td>2.751363e+07</td>\n",
       "      <td>31.651317</td>\n",
       "      <td>1.000000</td>\n",
       "      <td>0.000000</td>\n",
       "      <td>1.000000</td>\n",
       "      <td>1.000000</td>\n",
       "      <td>0.000000</td>\n",
       "      <td>0.000000</td>\n",
       "      <td>0.000000</td>\n",
       "      <td>...</td>\n",
       "      <td>1.000000</td>\n",
       "      <td>0.000000</td>\n",
       "      <td>30.000000</td>\n",
       "      <td>7.000000</td>\n",
       "      <td>42.000000</td>\n",
       "      <td>63.000000</td>\n",
       "      <td>0.000000</td>\n",
       "      <td>10.000000</td>\n",
       "      <td>1.000000</td>\n",
       "      <td>2.0</td>\n",
       "    </tr>\n",
       "    <tr>\n",
       "      <th>max</th>\n",
       "      <td>86116.000000</td>\n",
       "      <td>2.999982e+07</td>\n",
       "      <td>33.101274</td>\n",
       "      <td>1.000000</td>\n",
       "      <td>1.000000</td>\n",
       "      <td>1.000000</td>\n",
       "      <td>1.000000</td>\n",
       "      <td>1.000000</td>\n",
       "      <td>1.000000</td>\n",
       "      <td>1.000000</td>\n",
       "      <td>...</td>\n",
       "      <td>1.000000</td>\n",
       "      <td>1.000000</td>\n",
       "      <td>1255.000000</td>\n",
       "      <td>167.000000</td>\n",
       "      <td>333.000000</td>\n",
       "      <td>569.000000</td>\n",
       "      <td>158.000000</td>\n",
       "      <td>77.000000</td>\n",
       "      <td>3.000000</td>\n",
       "      <td>2.0</td>\n",
       "    </tr>\n",
       "  </tbody>\n",
       "</table>\n",
       "<p>8 rows × 21 columns</p>\n",
       "</div>"
      ],
      "text/plain": [
       "         Unnamed: 0         subid  weekly_consumption_hour  package_type_base  \\\n",
       "count  39626.000000  3.962600e+04             39626.000000       39626.000000   \n",
       "mean   43026.907056  2.500054e+07                29.607070           0.559204   \n",
       "std    24834.874855  2.888612e+06                 1.906076           0.496489   \n",
       "min        5.000000  2.000040e+07                26.771789           0.000000   \n",
       "25%    21515.750000  2.249291e+07                27.301448           0.000000   \n",
       "50%    43210.000000  2.500267e+07                28.751405           1.000000   \n",
       "75%    64295.750000  2.751363e+07                31.651317           1.000000   \n",
       "max    86116.000000  2.999982e+07                33.101274           1.000000   \n",
       "\n",
       "       package_type_economy  package_type_enhanced  preferred_genre_comedy  \\\n",
       "count          39626.000000           39626.000000            39626.000000   \n",
       "mean               0.093247               0.347550                0.630369   \n",
       "std                0.290782               0.476198                0.482711   \n",
       "min                0.000000               0.000000                0.000000   \n",
       "25%                0.000000               0.000000                0.000000   \n",
       "50%                0.000000               0.000000                1.000000   \n",
       "75%                0.000000               1.000000                1.000000   \n",
       "max                1.000000               1.000000                1.000000   \n",
       "\n",
       "       preferred_genre_drama  preferred_genre_international  \\\n",
       "count           39626.000000                   39626.000000   \n",
       "mean                0.243047                       0.037652   \n",
       "std                 0.428929                       0.190356   \n",
       "min                 0.000000                       0.000000   \n",
       "25%                 0.000000                       0.000000   \n",
       "50%                 0.000000                       0.000000   \n",
       "75%                 0.000000                       0.000000   \n",
       "max                 1.000000                       1.000000   \n",
       "\n",
       "       preferred_genre_other  ...  male_TF_False  male_TF_True     app_opens  \\\n",
       "count           39626.000000  ...   39626.000000  39626.000000  39626.000000   \n",
       "mean                0.027936  ...       0.908419      0.091581     30.456645   \n",
       "std                 0.164792  ...       0.288438      0.288438     60.148853   \n",
       "min                 0.000000  ...       0.000000      0.000000      0.000000   \n",
       "25%                 0.000000  ...       1.000000      0.000000      4.000000   \n",
       "50%                 0.000000  ...       1.000000      0.000000      9.000000   \n",
       "75%                 0.000000  ...       1.000000      0.000000     30.000000   \n",
       "max                 1.000000  ...       1.000000      1.000000   1255.000000   \n",
       "\n",
       "       cust_service_mssgs  num_videos_completed  \\\n",
       "count        39626.000000          39626.000000   \n",
       "mean             5.952203             38.981603   \n",
       "std              7.145496             60.191400   \n",
       "min              0.000000              0.000000   \n",
       "25%              2.000000              6.000000   \n",
       "50%              3.000000             14.000000   \n",
       "75%              7.000000             42.000000   \n",
       "max            167.000000            333.000000   \n",
       "\n",
       "       num_videos_more_than_30_seconds  num_videos_rated  num_series_started  \\\n",
       "count                     39626.000000      39626.000000        39626.000000   \n",
       "mean                         61.858149          0.706657            9.073992   \n",
       "std                          74.008219          3.616207           15.134447   \n",
       "min                           0.000000          0.000000            0.000000   \n",
       "25%                          17.000000          0.000000            0.000000   \n",
       "50%                          32.000000          0.000000            2.000000   \n",
       "75%                          63.000000          0.000000           10.000000   \n",
       "max                         569.000000        158.000000           77.000000   \n",
       "\n",
       "       payment_period    label  \n",
       "count    39626.000000  39626.0  \n",
       "mean         0.297052      2.0  \n",
       "std          0.549032      0.0  \n",
       "min          0.000000      2.0  \n",
       "25%          0.000000      2.0  \n",
       "50%          0.000000      2.0  \n",
       "75%          1.000000      2.0  \n",
       "max          3.000000      2.0  \n",
       "\n",
       "[8 rows x 21 columns]"
      ]
     },
     "execution_count": 6,
     "metadata": {},
     "output_type": "execute_result"
    }
   ],
   "source": [
    "cluster3.describe()"
   ]
  },
  {
   "cell_type": "code",
   "execution_count": 26,
   "id": "9131af3c",
   "metadata": {},
   "outputs": [],
   "source": [
    "cluster3_genre = cluster3[['preferred_genre_comedy','preferred_genre_drama','preferred_genre_international','preferred_genre_other','preferred_genre_regional']]"
   ]
  },
  {
   "cell_type": "code",
   "execution_count": 27,
   "id": "4d6752df",
   "metadata": {},
   "outputs": [],
   "source": [
    "cluster3_genre =cluster3_genre.apply(pd.value_counts)"
   ]
  },
  {
   "cell_type": "code",
   "execution_count": 31,
   "id": "2f69337e",
   "metadata": {},
   "outputs": [],
   "source": [
    "cluster3_genre = (cluster3_genre/39626).round(2)"
   ]
  },
  {
   "cell_type": "code",
   "execution_count": 32,
   "id": "9968bb62",
   "metadata": {},
   "outputs": [
    {
     "data": {
      "text/html": [
       "<div>\n",
       "<style scoped>\n",
       "    .dataframe tbody tr th:only-of-type {\n",
       "        vertical-align: middle;\n",
       "    }\n",
       "\n",
       "    .dataframe tbody tr th {\n",
       "        vertical-align: top;\n",
       "    }\n",
       "\n",
       "    .dataframe thead th {\n",
       "        text-align: right;\n",
       "    }\n",
       "</style>\n",
       "<table border=\"1\" class=\"dataframe\">\n",
       "  <thead>\n",
       "    <tr style=\"text-align: right;\">\n",
       "      <th></th>\n",
       "      <th>preferred_genre_comedy</th>\n",
       "      <th>preferred_genre_drama</th>\n",
       "      <th>preferred_genre_international</th>\n",
       "      <th>preferred_genre_other</th>\n",
       "      <th>preferred_genre_regional</th>\n",
       "    </tr>\n",
       "  </thead>\n",
       "  <tbody>\n",
       "    <tr>\n",
       "      <th>0</th>\n",
       "      <td>0.37</td>\n",
       "      <td>0.76</td>\n",
       "      <td>0.96</td>\n",
       "      <td>0.97</td>\n",
       "      <td>0.94</td>\n",
       "    </tr>\n",
       "    <tr>\n",
       "      <th>1</th>\n",
       "      <td>0.63</td>\n",
       "      <td>0.24</td>\n",
       "      <td>0.04</td>\n",
       "      <td>0.03</td>\n",
       "      <td>0.06</td>\n",
       "    </tr>\n",
       "  </tbody>\n",
       "</table>\n",
       "</div>"
      ],
      "text/plain": [
       "   preferred_genre_comedy  preferred_genre_drama  \\\n",
       "0                    0.37                   0.76   \n",
       "1                    0.63                   0.24   \n",
       "\n",
       "   preferred_genre_international  preferred_genre_other  \\\n",
       "0                           0.96                   0.97   \n",
       "1                           0.04                   0.03   \n",
       "\n",
       "   preferred_genre_regional  \n",
       "0                      0.94  \n",
       "1                      0.06  "
      ]
     },
     "execution_count": 32,
     "metadata": {},
     "output_type": "execute_result"
    }
   ],
   "source": [
    "cluster3_genre"
   ]
  },
  {
   "cell_type": "code",
   "execution_count": 44,
   "id": "24e67728",
   "metadata": {},
   "outputs": [],
   "source": [
    "cluster3_genre_t = cluster3_genre.transpose()"
   ]
  },
  {
   "cell_type": "code",
   "execution_count": 45,
   "id": "a3859937",
   "metadata": {},
   "outputs": [
    {
     "data": {
      "text/plain": [
       "<matplotlib.legend.Legend at 0x20f87d144c0>"
      ]
     },
     "execution_count": 45,
     "metadata": {},
     "output_type": "execute_result"
    },
    {
     "data": {
      "image/png": "[encoded data removed]",
      "text/plain": [
       "<Figure size 432x288 with 1 Axes>"
      ]
     },
     "metadata": {
      "needs_background": "light"
     },
     "output_type": "display_data"
    }
   ],
   "source": [
    "ax = cluster3_genre_t.plot.barh(stacked=True,color={0: \"#c51b8a\", 1: \"#fde0dd\"})\n",
    "ax.set_title('Preferred Genre for cluster 3')\n",
    "ax.legend(loc='center left', bbox_to_anchor=(1, 0.5))"
   ]
  },
  {
   "cell_type": "code",
   "execution_count": null,
   "id": "401bb7b8",
   "metadata": {},
   "outputs": [],
   "source": []
  },
  {
   "cell_type": "code",
   "execution_count": null,
   "id": "a93cdf5c",
   "metadata": {},
   "outputs": [],
   "source": []
  },
  {
   "cell_type": "code",
   "execution_count": 59,
   "id": "13949710",
   "metadata": {},
   "outputs": [
    {
     "name": "stderr",
     "output_type": "stream",
     "text": [
      "<ipython-input-59-97861966c579>:3: SettingWithCopyWarning: \n",
      "A value is trying to be set on a copy of a slice from a DataFrame.\n",
      "Try using .loc[row_indexer,col_indexer] = value instead\n",
      "\n",
      "See the caveats in the documentation: https://pandas.pydata.org/pandas-docs/stable/user_guide/indexing.html#returning-a-view-versus-a-copy\n",
      "  video_fin['cluster2'] = cluster2[['num_videos_completed']]\n",
      "<ipython-input-59-97861966c579>:4: SettingWithCopyWarning: \n",
      "A value is trying to be set on a copy of a slice from a DataFrame.\n",
      "Try using .loc[row_indexer,col_indexer] = value instead\n",
      "\n",
      "See the caveats in the documentation: https://pandas.pydata.org/pandas-docs/stable/user_guide/indexing.html#returning-a-view-versus-a-copy\n",
      "  video_fin['cluster3'] = cluster3[['num_videos_completed']]\n"
     ]
    }
   ],
   "source": [
    "video_fin = pd.DataFrame()\n",
    "video_fin = cluster1[['num_videos_completed']]\n",
    "video_fin['cluster2'] = cluster2[['num_videos_completed']]\n",
    "video_fin['cluster3'] = cluster3[['num_videos_completed']]\n",
    "video_fin.columns = ['cluster1','cluster2','cluster3']\n",
    "video_fin = video_fin.mean().to_frame()\n",
    "video_fin.columns=['num_videos_completed']"
   ]
  },
  {
   "cell_type": "code",
   "execution_count": 61,
   "id": "bfccce0f",
   "metadata": {},
   "outputs": [
    {
     "name": "stderr",
     "output_type": "stream",
     "text": [
      "C:\\Users\\Susie\\anaconda3-3\\lib\\site-packages\\seaborn\\_decorators.py:36: FutureWarning: Pass the following variable as a keyword arg: x. From version 0.12, the only valid positional argument will be `data`, and passing other arguments without an explicit keyword will result in an error or misinterpretation.\n",
      "  warnings.warn(\n"
     ]
    },
    {
     "data": {
      "text/plain": [
       "<AxesSubplot:title={'center':'Average Number of Videos Completed'}, ylabel='num_videos_completed'>"
      ]
     },
     "execution_count": 61,
     "metadata": {},
     "output_type": "execute_result"
    },
    {
     "data": {
      "image/png": "[encoded data removed]",
      "text/plain": [
       "<Figure size 432x288 with 1 Axes>"
      ]
     },
     "metadata": {
      "needs_background": "light"
     },
     "output_type": "display_data"
    }
   ],
   "source": [
    "ax = sns.barplot(video_fin.index, y=video_fin['num_videos_completed'], palette=\"RdPu\")\n",
    "ax.set_title('Average Number of Videos Completed')\n",
    "ax"
   ]
  },
  {
   "cell_type": "code",
   "execution_count": 68,
   "id": "d5b68ffc",
   "metadata": {},
   "outputs": [
    {
     "name": "stderr",
     "output_type": "stream",
     "text": [
      "<ipython-input-68-33f4b1963547>:3: SettingWithCopyWarning: \n",
      "A value is trying to be set on a copy of a slice from a DataFrame.\n",
      "Try using .loc[row_indexer,col_indexer] = value instead\n",
      "\n",
      "See the caveats in the documentation: https://pandas.pydata.org/pandas-docs/stable/user_guide/indexing.html#returning-a-view-versus-a-copy\n",
      "  video_lon['cluster2'] = cluster2[['num_videos_more_than_30_seconds']]\n",
      "<ipython-input-68-33f4b1963547>:4: SettingWithCopyWarning: \n",
      "A value is trying to be set on a copy of a slice from a DataFrame.\n",
      "Try using .loc[row_indexer,col_indexer] = value instead\n",
      "\n",
      "See the caveats in the documentation: https://pandas.pydata.org/pandas-docs/stable/user_guide/indexing.html#returning-a-view-versus-a-copy\n",
      "  video_lon['cluster3'] = cluster3[['num_videos_more_than_30_seconds']]\n",
      "C:\\Users\\Susie\\anaconda3-3\\lib\\site-packages\\seaborn\\_decorators.py:36: FutureWarning: Pass the following variable as a keyword arg: x. From version 0.12, the only valid positional argument will be `data`, and passing other arguments without an explicit keyword will result in an error or misinterpretation.\n",
      "  warnings.warn(\n"
     ]
    },
    {
     "data": {
      "text/plain": [
       "<AxesSubplot:title={'center':'Average Number of Videos More Than 30 seconds'}, ylabel='num_videos_more_than_30_seconds'>"
      ]
     },
     "execution_count": 68,
     "metadata": {},
     "output_type": "execute_result"
    },
    {
     "data": {
      "image/png": "[encoded data removed]",
      "text/plain": [
       "<Figure size 432x288 with 1 Axes>"
      ]
     },
     "metadata": {
      "needs_background": "light"
     },
     "output_type": "display_data"
    }
   ],
   "source": [
    "video_lon = pd.DataFrame()\n",
    "video_lon = cluster1[['num_videos_more_than_30_seconds']]\n",
    "video_lon['cluster2'] = cluster2[['num_videos_more_than_30_seconds']]\n",
    "video_lon['cluster3'] = cluster3[['num_videos_more_than_30_seconds']]\n",
    "video_lon.columns = ['cluster1','cluster2','cluster3']\n",
    "video_lon = video_lon.mean().to_frame()\n",
    "video_lon.columns=['num_videos_more_than_30_seconds']\n",
    "\n",
    "ax = sns.barplot(video_lon.index, y=video_lon['num_videos_more_than_30_seconds'], palette=\"RdPu\")\n",
    "ax.set_title('Average Number of Videos More Than 30 seconds')\n",
    "ax"
   ]
  },
  {
   "cell_type": "code",
   "execution_count": 69,
   "id": "ea1712c2",
   "metadata": {},
   "outputs": [
    {
     "name": "stderr",
     "output_type": "stream",
     "text": [
      "<ipython-input-69-f6e0e82ea688>:3: SettingWithCopyWarning: \n",
      "A value is trying to be set on a copy of a slice from a DataFrame.\n",
      "Try using .loc[row_indexer,col_indexer] = value instead\n",
      "\n",
      "See the caveats in the documentation: https://pandas.pydata.org/pandas-docs/stable/user_guide/indexing.html#returning-a-view-versus-a-copy\n",
      "  app['cluster2'] = cluster2[['app_opens']]\n",
      "<ipython-input-69-f6e0e82ea688>:4: SettingWithCopyWarning: \n",
      "A value is trying to be set on a copy of a slice from a DataFrame.\n",
      "Try using .loc[row_indexer,col_indexer] = value instead\n",
      "\n",
      "See the caveats in the documentation: https://pandas.pydata.org/pandas-docs/stable/user_guide/indexing.html#returning-a-view-versus-a-copy\n",
      "  app['cluster3'] = cluster3[['app_opens']]\n",
      "C:\\Users\\Susie\\anaconda3-3\\lib\\site-packages\\seaborn\\_decorators.py:36: FutureWarning: Pass the following variable as a keyword arg: x. From version 0.12, the only valid positional argument will be `data`, and passing other arguments without an explicit keyword will result in an error or misinterpretation.\n",
      "  warnings.warn(\n"
     ]
    },
    {
     "data": {
      "text/plain": [
       "<AxesSubplot:title={'center':'Average Times of APP Opens'}, ylabel='app_opens'>"
      ]
     },
     "execution_count": 69,
     "metadata": {},
     "output_type": "execute_result"
    },
    {
     "data": {
      "image/png": "[encoded data removed]",
      "text/plain": [
       "<Figure size 432x288 with 1 Axes>"
      ]
     },
     "metadata": {
      "needs_background": "light"
     },
     "output_type": "display_data"
    }
   ],
   "source": [
    "app = pd.DataFrame()\n",
    "app = cluster1[['app_opens']]\n",
    "app['cluster2'] = cluster2[['app_opens']]\n",
    "app['cluster3'] = cluster3[['app_opens']]\n",
    "app.columns = ['cluster1','cluster2','cluster3']\n",
    "app = app.mean().to_frame()\n",
    "app.columns=['app_opens']\n",
    "\n",
    "ax = sns.barplot(app.index, y=app['app_opens'], palette=\"RdPu\")\n",
    "ax.set_title('Average Times of APP Opens')\n",
    "ax"
   ]
  },
  {
   "cell_type": "code",
   "execution_count": 70,
   "id": "b213f423",
   "metadata": {},
   "outputs": [
    {
     "name": "stderr",
     "output_type": "stream",
     "text": [
      "<ipython-input-70-687daf1c8d30>:3: SettingWithCopyWarning: \n",
      "A value is trying to be set on a copy of a slice from a DataFrame.\n",
      "Try using .loc[row_indexer,col_indexer] = value instead\n",
      "\n",
      "See the caveats in the documentation: https://pandas.pydata.org/pandas-docs/stable/user_guide/indexing.html#returning-a-view-versus-a-copy\n",
      "  gender['cluster2'] = cluster2[['male_TF_True']]\n",
      "<ipython-input-70-687daf1c8d30>:4: SettingWithCopyWarning: \n",
      "A value is trying to be set on a copy of a slice from a DataFrame.\n",
      "Try using .loc[row_indexer,col_indexer] = value instead\n",
      "\n",
      "See the caveats in the documentation: https://pandas.pydata.org/pandas-docs/stable/user_guide/indexing.html#returning-a-view-versus-a-copy\n",
      "  gender['cluster3'] = cluster3[['male_TF_True']]\n"
     ]
    }
   ],
   "source": [
    "gender = pd.DataFrame()\n",
    "gender = cluster1[['male_TF_True']]\n",
    "gender['cluster2'] = cluster2[['male_TF_True']]\n",
    "gender['cluster3'] = cluster3[['male_TF_True']]\n",
    "gender.columns = ['cluster1','cluster2','cluster3']"
   ]
  },
  {
   "cell_type": "code",
   "execution_count": 72,
   "id": "25a605d1",
   "metadata": {},
   "outputs": [],
   "source": [
    "gender =gender.apply(pd.value_counts)"
   ]
  },
  {
   "cell_type": "code",
   "execution_count": 75,
   "id": "3197ffbe",
   "metadata": {},
   "outputs": [],
   "source": [
    "gender['cluster1'] = (gender['cluster1']/cluster1.shape[0]).round(2)\n",
    "gender['cluster2'] = (gender['cluster2']/cluster1.shape[0]).round(2)\n",
    "gender['cluster3'] = (gender['cluster3']/cluster1.shape[0]).round(2)"
   ]
  },
  {
   "cell_type": "code",
   "execution_count": 81,
   "id": "8dd3e1e0",
   "metadata": {},
   "outputs": [
    {
     "data": {
      "text/html": [
       "<div>\n",
       "<style scoped>\n",
       "    .dataframe tbody tr th:only-of-type {\n",
       "        vertical-align: middle;\n",
       "    }\n",
       "\n",
       "    .dataframe tbody tr th {\n",
       "        vertical-align: top;\n",
       "    }\n",
       "\n",
       "    .dataframe thead th {\n",
       "        text-align: right;\n",
       "    }\n",
       "</style>\n",
       "<table border=\"1\" class=\"dataframe\">\n",
       "  <thead>\n",
       "    <tr style=\"text-align: right;\">\n",
       "      <th></th>\n",
       "      <th>cluster1</th>\n",
       "      <th>cluster2</th>\n",
       "      <th>cluster3</th>\n",
       "    </tr>\n",
       "  </thead>\n",
       "  <tbody>\n",
       "    <tr>\n",
       "      <th>0.0</th>\n",
       "      <td>0.99</td>\n",
       "      <td>0.08</td>\n",
       "      <td>0.91</td>\n",
       "    </tr>\n",
       "    <tr>\n",
       "      <th>1.0</th>\n",
       "      <td>0.01</td>\n",
       "      <td>0.20</td>\n",
       "      <td>0.09</td>\n",
       "    </tr>\n",
       "  </tbody>\n",
       "</table>\n",
       "</div>"
      ],
      "text/plain": [
       "     cluster1  cluster2  cluster3\n",
       "0.0      0.99      0.08      0.91\n",
       "1.0      0.01      0.20      0.09"
      ]
     },
     "execution_count": 81,
     "metadata": {},
     "output_type": "execute_result"
    }
   ],
   "source": [
    "gender"
   ]
  },
  {
   "cell_type": "code",
   "execution_count": 78,
   "id": "0d625856",
   "metadata": {},
   "outputs": [],
   "source": [
    "gender_t = gender.transpose()"
   ]
  },
  {
   "cell_type": "code",
   "execution_count": 82,
   "id": "28bb3e50",
   "metadata": {},
   "outputs": [
    {
     "data": {
      "text/html": [
       "<div>\n",
       "<style scoped>\n",
       "    .dataframe tbody tr th:only-of-type {\n",
       "        vertical-align: middle;\n",
       "    }\n",
       "\n",
       "    .dataframe tbody tr th {\n",
       "        vertical-align: top;\n",
       "    }\n",
       "\n",
       "    .dataframe thead th {\n",
       "        text-align: right;\n",
       "    }\n",
       "</style>\n",
       "<table border=\"1\" class=\"dataframe\">\n",
       "  <thead>\n",
       "    <tr style=\"text-align: right;\">\n",
       "      <th></th>\n",
       "      <th>0.0</th>\n",
       "      <th>1.0</th>\n",
       "    </tr>\n",
       "  </thead>\n",
       "  <tbody>\n",
       "    <tr>\n",
       "      <th>cluster1</th>\n",
       "      <td>0.99</td>\n",
       "      <td>0.01</td>\n",
       "    </tr>\n",
       "    <tr>\n",
       "      <th>cluster2</th>\n",
       "      <td>0.08</td>\n",
       "      <td>0.20</td>\n",
       "    </tr>\n",
       "    <tr>\n",
       "      <th>cluster3</th>\n",
       "      <td>0.91</td>\n",
       "      <td>0.09</td>\n",
       "    </tr>\n",
       "  </tbody>\n",
       "</table>\n",
       "</div>"
      ],
      "text/plain": [
       "           0.0   1.0\n",
       "cluster1  0.99  0.01\n",
       "cluster2  0.08  0.20\n",
       "cluster3  0.91  0.09"
      ]
     },
     "execution_count": 82,
     "metadata": {},
     "output_type": "execute_result"
    }
   ],
   "source": [
    "gender_t"
   ]
  },
  {
   "cell_type": "code",
   "execution_count": 83,
   "id": "62a983e8",
   "metadata": {},
   "outputs": [],
   "source": [
    "gender_t.columns = ['Female','Male']"
   ]
  },
  {
   "cell_type": "code",
   "execution_count": 85,
   "id": "8291dc4d",
   "metadata": {},
   "outputs": [
    {
     "data": {
      "text/plain": [
       "<matplotlib.legend.Legend at 0x20f89874a30>"
      ]
     },
     "execution_count": 85,
     "metadata": {},
     "output_type": "execute_result"
    },
    {
     "data": {
      "image/png": "[encoded data removed]",
      "text/plain": [
       "<Figure size 432x288 with 1 Axes>"
      ]
     },
     "metadata": {
      "needs_background": "light"
     },
     "output_type": "display_data"
    }
   ],
   "source": [
    "ax = gender_t.plot.bar(stacked=True,color={'Female': \"#c51b8a\", 'Male': \"#fde0dd\"})\n",
    "ax.set_title('Gender')\n",
    "ax.legend(loc='center left', bbox_to_anchor=(1, 0.5))"
   ]
  },
  {
   "cell_type": "code",
   "execution_count": null,
   "id": "61b0281a",
   "metadata": {},
   "outputs": [],
   "source": []
  }
 ],
 "metadata": {
  "kernelspec": {
   "display_name": "Python 3",
   "language": "python",
   "name": "python3"
  },
  "language_info": {
   "codemirror_mode": {
    "name": "ipython",
    "version": 3
   },
   "file_extension": ".py",
   "mimetype": "text/x-python",
   "name": "python",
   "nbconvert_exporter": "python",
   "pygments_lexer": "ipython3",
   "version": "3.8.8"
  }
 },
 "nbformat": 4,
 "nbformat_minor": 5
}
